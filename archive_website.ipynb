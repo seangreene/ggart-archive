{
 "cells": [
  {
   "cell_type": "code",
   "execution_count": 1,
   "id": "6b3740d5-a536-4163-8efa-7c61e3eb181e",
   "metadata": {},
   "outputs": [],
   "source": [
    "import requests as re\n",
    "from bs4 import BeautifulSoup"
   ]
  },
  {
   "cell_type": "code",
   "execution_count": 7,
   "id": "4d2b093c-8f55-4ea8-98d1-633ab5bd2b44",
   "metadata": {},
   "outputs": [],
   "source": [
    "url = 'https://new.ggart.biz/'"
   ]
  },
  {
   "cell_type": "code",
   "execution_count": 8,
   "id": "8e91c19d-ed2d-48cb-bffb-bb95e6df0101",
   "metadata": {},
   "outputs": [],
   "source": [
    "response = re.get(url)"
   ]
  },
  {
   "cell_type": "code",
   "execution_count": 9,
   "id": "642343a8-8bd1-4866-97a3-f02126bf5044",
   "metadata": {},
   "outputs": [],
   "source": [
    "soup = BeautifulSoup(response.text)"
   ]
  },
  {
   "cell_type": "code",
   "execution_count": 12,
   "id": "74834d53-edd0-4160-a7e0-23acc550ab92",
   "metadata": {},
   "outputs": [],
   "source": [
    "nav = soup.find('ul', {'id': 'top-menu'})"
   ]
  },
  {
   "cell_type": "code",
   "execution_count": 17,
   "id": "9807d5a8-a3f1-4071-93f5-07048406d399",
   "metadata": {},
   "outputs": [],
   "source": [
    "pages = nav.find_all('a', href=True)"
   ]
  },
  {
   "cell_type": "code",
   "execution_count": 30,
   "id": "856ace34-6149-4f28-a989-f2f0c3c2089c",
   "metadata": {},
   "outputs": [
    {
     "data": {
      "text/plain": [
       "<a href=\"#\">Paintings</a>"
      ]
     },
     "execution_count": 30,
     "metadata": {},
     "output_type": "execute_result"
    }
   ],
   "source": [
    "pages[1]"
   ]
  },
  {
   "cell_type": "code",
   "execution_count": 40,
   "id": "7af6d0cf-b31b-44a5-8928-ff84ef841e24",
   "metadata": {},
   "outputs": [],
   "source": [
    "for page in pages:\n",
    "    file_name = page.text.replace(' ', '_')\n",
    "    href = page['href']\n",
    "    if href != '#':\n",
    "        response = re.get(href)\n",
    "        soup = BeautifulSoup(response.text)\n",
    "        with open(f'pages/{file_name}.html', 'w', encoding='utf-8') as file:\n",
    "            file.write(str(soup))"
   ]
  },
  {
   "cell_type": "code",
   "execution_count": null,
   "id": "6a34b00a-3a01-40c6-acab-7a05d1f1bd65",
   "metadata": {},
   "outputs": [],
   "source": []
  }
 ],
 "metadata": {
  "kernelspec": {
   "display_name": "Python 3 (ipykernel)",
   "language": "python",
   "name": "python3"
  },
  "language_info": {
   "codemirror_mode": {
    "name": "ipython",
    "version": 3
   },
   "file_extension": ".py",
   "mimetype": "text/x-python",
   "name": "python",
   "nbconvert_exporter": "python",
   "pygments_lexer": "ipython3",
   "version": "3.8.18"
  }
 },
 "nbformat": 4,
 "nbformat_minor": 5
}
