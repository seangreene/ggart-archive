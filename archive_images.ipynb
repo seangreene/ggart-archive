{
 "cells": [
  {
   "cell_type": "code",
   "execution_count": 10,
   "id": "2635cf6b-98b6-4c99-b2d4-29bc75cd0a27",
   "metadata": {},
   "outputs": [],
   "source": [
    "import requests as re\n",
    "from bs4 import BeautifulSoup"
   ]
  },
  {
   "cell_type": "markdown",
   "id": "43cfff60-02fa-4440-9c2e-e402669436d6",
   "metadata": {},
   "source": [
    "Get paintings"
   ]
  },
  {
   "cell_type": "code",
   "execution_count": 11,
   "id": "1c6880b2-b8fe-4400-98fc-cc10786dbeba",
   "metadata": {},
   "outputs": [],
   "source": [
    "url = 'https://new.ggart.biz/paintings/'"
   ]
  },
  {
   "cell_type": "code",
   "execution_count": 12,
   "id": "9d126a30-2429-4ed3-b9e9-263d67307b61",
   "metadata": {},
   "outputs": [],
   "source": [
    "response = re.get(url)"
   ]
  },
  {
   "cell_type": "code",
   "execution_count": 13,
   "id": "27bb8069-2b20-47ab-8b5e-57d0d4f8f5da",
   "metadata": {},
   "outputs": [],
   "source": [
    "soup = BeautifulSoup(response.text)"
   ]
  },
  {
   "cell_type": "code",
   "execution_count": 43,
   "id": "f361b02c-f7a7-4baa-9974-366c76f304a3",
   "metadata": {},
   "outputs": [],
   "source": [
    "gallery1 = soup.find('div', {'id': 'ngg-gallery-b7b8cdda7f43c81387619f4e21a26e49-1'})"
   ]
  },
  {
   "cell_type": "code",
   "execution_count": 44,
   "id": "53a8ce5e",
   "metadata": {},
   "outputs": [],
   "source": [
    "gallery2 = soup.find('div', {'id': 'ngg-gallery-302b693df226032e5e2de66a1e09f28d-1'})"
   ]
  },
  {
   "cell_type": "code",
   "execution_count": 45,
   "id": "e2e3179b-1a5d-4769-80ec-570ee1556741",
   "metadata": {},
   "outputs": [],
   "source": [
    "def downloadGallery(gallery, subdirectory):\n",
    "    items = gallery.find_all('a', href=True)\n",
    "    img_urls = []\n",
    "    \n",
    "    for item in items:\n",
    "        image_url = item['href']\n",
    "        file_name = image_url.split('/')[-1]\n",
    "        img_data = re.get(image_url).content\n",
    "        with open(f'{subdirectory}/{file_name}', 'wb') as handler:\n",
    "            handler.write(img_data)    "
   ]
  },
  {
   "cell_type": "code",
   "execution_count": 47,
   "id": "7a7947eb-b00b-494a-afb2-f81ce492a574",
   "metadata": {},
   "outputs": [],
   "source": [
    "downloadGallery(gallery1, 'paintings')"
   ]
  },
  {
   "cell_type": "code",
   "execution_count": 48,
   "id": "a7dd8a2c-1ece-4e6f-b37d-c5449f850cb3",
   "metadata": {},
   "outputs": [],
   "source": [
    "downloadGallery(gallery2, 'paintings')"
   ]
  },
  {
   "cell_type": "markdown",
   "id": "004749f7-3730-410c-a4ca-27153254b676",
   "metadata": {},
   "source": [
    "Get photographs"
   ]
  },
  {
   "cell_type": "code",
   "execution_count": 57,
   "id": "0c68999d-b960-45f8-bb19-9b833726d67c",
   "metadata": {},
   "outputs": [],
   "source": [
    "photos_url = 'https://new.ggart.biz/photographs/'"
   ]
  },
  {
   "cell_type": "code",
   "execution_count": 58,
   "id": "e9528fa2-5e8d-4a54-b71b-a6cd3c3eb674",
   "metadata": {},
   "outputs": [],
   "source": [
    "photos_response = re.get(photos_url)"
   ]
  },
  {
   "cell_type": "code",
   "execution_count": 60,
   "id": "06ad46d6-f3cb-4813-a922-02fb85dd3887",
   "metadata": {},
   "outputs": [],
   "source": [
    "photos_soup = BeautifulSoup(photos_response.text)"
   ]
  },
  {
   "cell_type": "code",
   "execution_count": 61,
   "id": "d18f317b-a9ae-49c1-9ee3-2870d88a141c",
   "metadata": {},
   "outputs": [],
   "source": [
    "photogallery1 = photos_soup.find('div', {'id': 'ngg-gallery-d900d7767ab3024ca4190685979807c9-1'})"
   ]
  },
  {
   "cell_type": "code",
   "execution_count": 62,
   "id": "35e25079-a848-4d41-99e7-9b5f66227a99",
   "metadata": {},
   "outputs": [],
   "source": [
    "photogallery2 = photos_soup.find('div', {'id': 'ngg-gallery-2f4d4a57f0c1ecaff96b046edb2757c1-1'})"
   ]
  },
  {
   "cell_type": "code",
   "execution_count": 63,
   "id": "92511e81-0c2a-447a-918e-0681597fe127",
   "metadata": {},
   "outputs": [],
   "source": [
    "downloadGallery(photogallery1, 'photographs')"
   ]
  },
  {
   "cell_type": "code",
   "execution_count": 64,
   "id": "eb41019a-23f5-4b85-a21e-8c9234c7f319",
   "metadata": {},
   "outputs": [],
   "source": [
    "downloadGallery(photogallery2, 'photographs')"
   ]
  }
 ],
 "metadata": {
  "kernelspec": {
   "display_name": "Python 3 (ipykernel)",
   "language": "python",
   "name": "python3"
  },
  "language_info": {
   "codemirror_mode": {
    "name": "ipython",
    "version": 3
   },
   "file_extension": ".py",
   "mimetype": "text/x-python",
   "name": "python",
   "nbconvert_exporter": "python",
   "pygments_lexer": "ipython3",
   "version": "3.8.18"
  }
 },
 "nbformat": 4,
 "nbformat_minor": 5
}
